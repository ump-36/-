{
  "nbformat": 4,
  "nbformat_minor": 0,
  "metadata": {
    "colab": {
      "name": "Untitled1.ipynb",
      "provenance": [],
      "collapsed_sections": [],
      "authorship_tag": "ABX9TyPDRAMzzmhtYszFNyS2T8f6",
      "include_colab_link": true
    },
    "kernelspec": {
      "name": "python3",
      "display_name": "Python 3"
    },
    "language_info": {
      "name": "python"
    }
  },
  "cells": [
    {
      "cell_type": "markdown",
      "metadata": {
        "id": "view-in-github",
        "colab_type": "text"
      },
      "source": [
        "<a href=\"https://colab.research.google.com/github/ump-36/-/blob/master/Untitled1.ipynb\" target=\"_parent\"><img src=\"https://colab.research.google.com/assets/colab-badge.svg\" alt=\"Open In Colab\"/></a>"
      ]
    },
    {
      "cell_type": "code",
      "execution_count": 55,
      "metadata": {
        "id": "6XdyDhIEhvwi"
      },
      "outputs": [],
      "source": [
        "import tensorflow as tf\n",
        "from tensorflow import keras\n",
        "from keras.models import Sequential\n",
        "from tensorflow.keras import datasets, layers, models\n",
        "import matplotlib.pyplot as plt\n",
        "import numpy as np#导入包\n",
        "from keras.layers import Dense,Flatten,Dropout,MaxPooling2D,Conv2D\n",
        "from tensorflow.keras import layers\n",
        "from tensorflow.keras.utils import to_categorical\n",
        "plt.style.use('fivethirtyeight')"
      ]
    },
    {
      "cell_type": "code",
      "source": [
        "(x_train, y_train), (x_test,y_test) = datasets.cifar10.load_data()\n",
        "print(x_test.shape)#确认测试集准确无误\n",
        "print(type(x_train))\n",
        "print(type(y_train))\n",
        "print(type(x_test))\n",
        "print(type(x_test))#data type"
      ],
      "metadata": {
        "colab": {
          "base_uri": "https://localhost:8080/"
        },
        "id": "40llZwVGiw-b",
        "outputId": "9d893f88-0b64-4393-eba1-1ce9f11c71f8"
      },
      "execution_count": 60,
      "outputs": [
        {
          "output_type": "stream",
          "name": "stdout",
          "text": [
            "(10000, 32, 32, 3)\n",
            "<class 'numpy.ndarray'>\n",
            "<class 'numpy.ndarray'>\n",
            "<class 'numpy.ndarray'>\n",
            "<class 'numpy.ndarray'>\n"
          ]
        }
      ]
    },
    {
      "cell_type": "code",
      "source": [
        "train_set,test_set,val_set=np.split(x_test,[int(len(x_test)*0.7),int(len(x_test)*0.9)])#以7:2:1的比例划定训练集，测试集，验证集\n",
        "print(len(train_set),len(test_set),len(val_set))#确认三种集合内容数\n",
        "print(train_set.shape,test_set.shape,val_set.shape)#每个图像为32*32的RGB三通道图像\n",
        "y_train[:10000]#利用循环打印出array的class数\n",
        "class_number = np.unique(y_test,return_counts=True)\n",
        "print(class_number)#一共有0-9一共十个数，故the number of classes = 10，the number of data entries for each classes is 1000."
      ],
      "metadata": {
        "id": "n166RYyBZfVm",
        "colab": {
          "base_uri": "https://localhost:8080/"
        },
        "outputId": "8eaa745b-93dd-42af-b183-6d0424123751"
      },
      "execution_count": 61,
      "outputs": [
        {
          "output_type": "stream",
          "name": "stdout",
          "text": [
            "7000 2000 1000\n",
            "(7000, 32, 32, 3) (2000, 32, 32, 3) (1000, 32, 32, 3)\n",
            "(array([0, 1, 2, 3, 4, 5, 6, 7, 8, 9], dtype=uint8), array([1000, 1000, 1000, 1000, 1000, 1000, 1000, 1000, 1000, 1000]))\n"
          ]
        }
      ]
    },
    {
      "cell_type": "code",
      "source": [
        "#Whar  should be done to the data before feed into the model?\n",
        "#all the data should be normalized first before feeding into the model.\n",
        "classes = [\"airplane\",\"automobile\",\"bird\",\"cat\",\"deer\",\"dog\",\"frog\",\"horse\",\"ship\",\"truck\"]#this command is defined based on last code section."
      ],
      "metadata": {
        "id": "x0U20FvioMI2"
      },
      "execution_count": null,
      "outputs": []
    },
    {
      "cell_type": "code",
      "source": [
        "import torch.nn as nn\n",
        "\n",
        "'''\n",
        "modified to fit dataset size\n",
        "'''\n",
        "NUM_CLASSES = 10\n",
        "\n",
        "\n",
        "class AlexNet(nn.Module):\n",
        "    def __init__(self, num_classes=NUM_CLASSES):\n",
        "        super(AlexNet, self).__init__()\n",
        "        self.features = nn.Sequential(\n",
        "            nn.Conv2d(3, 64, kernel_size=3, stride=2, padding=1),#first time convolution\n",
        "            nn.ReLU(inplace=True),\n",
        "            nn.MaxPool2d(kernel_size=2),#first time pooling\n",
        "            nn.Conv2d(64, 192, kernel_size=3, padding=1),#second time convolution\n",
        "            nn.ReLU(inplace=True),\n",
        "            nn.MaxPool2d(kernel_size=2),#second time pooling\n",
        "            nn.Conv2d(192, 384, kernel_size=3, padding=1),#third time convolution\n",
        "            nn.ReLU(inplace=True),\n",
        "            nn.Conv2d(384, 256, kernel_size=3, padding=1),#fourth time convolution\n",
        "            nn.ReLU(inplace=True),\n",
        "            nn.Conv2d(256, 256, kernel_size=3, padding=1),#fifth time convolution\n",
        "            nn.ReLU(inplace=True),\n",
        "          #nn.Conv2d(256,512,kernal_size = 3,padding = 1),\n",
        "          #nn.ReLU(inplace = True)\n",
        "            \"This is the after-added convolutional layer\"\n",
        "            nn.MaxPool2d(kernel_size=2),#third time pooling\n",
        "        )\n",
        "        self.classifier = nn.Sequential(\n",
        "            nn.Dropout(),\n",
        "            nn.Linear(256 * 2 * 2, 4096),\n",
        "            nn.ReLU(inplace=True),\n",
        "            nn.Dropout(0.2),#set the dropout rate to make the convolution more efficient\n",
        "            nn.Linear(4096, 4096),\n",
        "            nn.ReLU(inplace=True),\n",
        "            nn.Linear(4096, num_classes),\n",
        "        )\n",
        "\n",
        "    def forward(self, x):\n",
        "        x = self.features(x)\n",
        "        x = x.view(x.size(0), 256 * 2 * 2)\n",
        "        x = self.classifier(x)\n",
        "        return x\n",
        "        \"\"\"There are five convolutional layers in total,there are three fully connection layers in total\"\"\"\n",
        "        \"\"\" \"\"\""
      ],
      "metadata": {
        "id": "RFL0Km6mdPQL"
      },
      "execution_count": null,
      "outputs": []
    },
    {
      "cell_type": "code",
      "source": [
        "index = 0\n",
        "print('The image label is',y_train[index])\n",
        "x_train[index]#打印分类标签值"
      ],
      "metadata": {
        "colab": {
          "base_uri": "https://localhost:8080/"
        },
        "id": "ZIiQ-OK9UuIT",
        "outputId": "ab566299-a95b-430d-a940-4e48131f87fa"
      },
      "execution_count": null,
      "outputs": [
        {
          "output_type": "stream",
          "name": "stdout",
          "text": [
            "The image label is [6]\n"
          ]
        },
        {
          "output_type": "execute_result",
          "data": {
            "text/plain": [
              "array([[[ 59,  62,  63],\n",
              "        [ 43,  46,  45],\n",
              "        [ 50,  48,  43],\n",
              "        ...,\n",
              "        [158, 132, 108],\n",
              "        [152, 125, 102],\n",
              "        [148, 124, 103]],\n",
              "\n",
              "       [[ 16,  20,  20],\n",
              "        [  0,   0,   0],\n",
              "        [ 18,   8,   0],\n",
              "        ...,\n",
              "        [123,  88,  55],\n",
              "        [119,  83,  50],\n",
              "        [122,  87,  57]],\n",
              "\n",
              "       [[ 25,  24,  21],\n",
              "        [ 16,   7,   0],\n",
              "        [ 49,  27,   8],\n",
              "        ...,\n",
              "        [118,  84,  50],\n",
              "        [120,  84,  50],\n",
              "        [109,  73,  42]],\n",
              "\n",
              "       ...,\n",
              "\n",
              "       [[208, 170,  96],\n",
              "        [201, 153,  34],\n",
              "        [198, 161,  26],\n",
              "        ...,\n",
              "        [160, 133,  70],\n",
              "        [ 56,  31,   7],\n",
              "        [ 53,  34,  20]],\n",
              "\n",
              "       [[180, 139,  96],\n",
              "        [173, 123,  42],\n",
              "        [186, 144,  30],\n",
              "        ...,\n",
              "        [184, 148,  94],\n",
              "        [ 97,  62,  34],\n",
              "        [ 83,  53,  34]],\n",
              "\n",
              "       [[177, 144, 116],\n",
              "        [168, 129,  94],\n",
              "        [179, 142,  87],\n",
              "        ...,\n",
              "        [216, 184, 140],\n",
              "        [151, 118,  84],\n",
              "        [123,  92,  72]]], dtype=uint8)"
            ]
          },
          "metadata": {},
          "execution_count": 11
        }
      ]
    },
    {
      "cell_type": "code",
      "source": [
        "#show the image as a picture\n",
        "img = plt.imshow(X_train[index])"
      ],
      "metadata": {
        "colab": {
          "base_uri": "https://localhost:8080/",
          "height": 284
        },
        "id": "h6uk4lT4ZQf-",
        "outputId": "751504a6-54aa-4cfc-f6af-974e16714b69"
      },
      "execution_count": null,
      "outputs": [
        {
          "output_type": "display_data",
          "data": {
            "text/plain": [
              "<Figure size 432x288 with 1 Axes>"
            ],
            "image/png": "[encoded data removed]"
          },
          "metadata": {}
        }
      ]
    },
    {
      "cell_type": "code",
      "source": [
        "#print the image label with the specific word\n",
        "print('THe image class is:' , classes[y_train[index][0]])\n"
      ],
      "metadata": {
        "colab": {
          "base_uri": "https://localhost:8080/"
        },
        "id": "AKS-UkyFZlf4",
        "outputId": "08308551-16df-4cb8-f20f-37d447789e9d"
      },
      "execution_count": 62,
      "outputs": [
        {
          "output_type": "stream",
          "name": "stdout",
          "text": [
            "THe image class is: frog\n"
          ]
        }
      ]
    },
    {
      "cell_type": "code",
      "source": [
        "#convert the labels into a set of 10 numbers to feed in the neural network\n",
        "y_train_one_hot = to_categorical(y_train)\n",
        "y_test_one_hot = to_categorical(y_test)"
      ],
      "metadata": {
        "id": "CPdFZRMvdR7g"
      },
      "execution_count": 63,
      "outputs": []
    },
    {
      "cell_type": "code",
      "source": [
        "#print new labels\n",
        "print(y_train_one_hot)#the number 1 place is corresponding to the classes type "
      ],
      "metadata": {
        "colab": {
          "base_uri": "https://localhost:8080/"
        },
        "id": "RxtT8B13mfZz",
        "outputId": "9f3a23fb-26a1-4288-8982-0efb35a49544"
      },
      "execution_count": 64,
      "outputs": [
        {
          "output_type": "stream",
          "name": "stdout",
          "text": [
            "[[0. 0. 0. ... 0. 0. 0.]\n",
            " [0. 0. 0. ... 0. 0. 1.]\n",
            " [0. 0. 0. ... 0. 0. 1.]\n",
            " ...\n",
            " [0. 0. 0. ... 0. 0. 1.]\n",
            " [0. 1. 0. ... 0. 0. 0.]\n",
            " [0. 1. 0. ... 0. 0. 0.]]\n"
          ]
        }
      ]
    },
    {
      "cell_type": "code",
      "source": [
        "#Normalize the pixels to be values between 0 and 1\n",
        "x_train = x_train/255\n",
        "x_test = x_test/255"
      ],
      "metadata": {
        "id": "xI1L1oPmeRbl"
      },
      "execution_count": 65,
      "outputs": []
    },
    {
      "cell_type": "code",
      "source": [
        "x_train[index]"
      ],
      "metadata": {
        "colab": {
          "base_uri": "https://localhost:8080/"
        },
        "id": "7c1ZoBQenfK5",
        "outputId": "3013e5f8-a821-4296-821f-b7328ae15d9c"
      },
      "execution_count": 66,
      "outputs": [
        {
          "output_type": "execute_result",
          "data": {
            "text/plain": [
              "array([[[0.23137255, 0.24313725, 0.24705882],\n",
              "        [0.16862745, 0.18039216, 0.17647059],\n",
              "        [0.19607843, 0.18823529, 0.16862745],\n",
              "        ...,\n",
              "        [0.61960784, 0.51764706, 0.42352941],\n",
              "        [0.59607843, 0.49019608, 0.4       ],\n",
              "        [0.58039216, 0.48627451, 0.40392157]],\n",
              "\n",
              "       [[0.0627451 , 0.07843137, 0.07843137],\n",
              "        [0.        , 0.        , 0.        ],\n",
              "        [0.07058824, 0.03137255, 0.        ],\n",
              "        ...,\n",
              "        [0.48235294, 0.34509804, 0.21568627],\n",
              "        [0.46666667, 0.3254902 , 0.19607843],\n",
              "        [0.47843137, 0.34117647, 0.22352941]],\n",
              "\n",
              "       [[0.09803922, 0.09411765, 0.08235294],\n",
              "        [0.0627451 , 0.02745098, 0.        ],\n",
              "        [0.19215686, 0.10588235, 0.03137255],\n",
              "        ...,\n",
              "        [0.4627451 , 0.32941176, 0.19607843],\n",
              "        [0.47058824, 0.32941176, 0.19607843],\n",
              "        [0.42745098, 0.28627451, 0.16470588]],\n",
              "\n",
              "       ...,\n",
              "\n",
              "       [[0.81568627, 0.66666667, 0.37647059],\n",
              "        [0.78823529, 0.6       , 0.13333333],\n",
              "        [0.77647059, 0.63137255, 0.10196078],\n",
              "        ...,\n",
              "        [0.62745098, 0.52156863, 0.2745098 ],\n",
              "        [0.21960784, 0.12156863, 0.02745098],\n",
              "        [0.20784314, 0.13333333, 0.07843137]],\n",
              "\n",
              "       [[0.70588235, 0.54509804, 0.37647059],\n",
              "        [0.67843137, 0.48235294, 0.16470588],\n",
              "        [0.72941176, 0.56470588, 0.11764706],\n",
              "        ...,\n",
              "        [0.72156863, 0.58039216, 0.36862745],\n",
              "        [0.38039216, 0.24313725, 0.13333333],\n",
              "        [0.3254902 , 0.20784314, 0.13333333]],\n",
              "\n",
              "       [[0.69411765, 0.56470588, 0.45490196],\n",
              "        [0.65882353, 0.50588235, 0.36862745],\n",
              "        [0.70196078, 0.55686275, 0.34117647],\n",
              "        ...,\n",
              "        [0.84705882, 0.72156863, 0.54901961],\n",
              "        [0.59215686, 0.4627451 , 0.32941176],\n",
              "        [0.48235294, 0.36078431, 0.28235294]]])"
            ]
          },
          "metadata": {},
          "execution_count": 66
        }
      ]
    },
    {
      "cell_type": "code",
      "source": [
        "#creat the models architecture\n",
        "model = Sequential()\n",
        "\n",
        "#Add the first layer\n",
        "model.add( Conv2D(32, (5,5), activation = 'relu', input_shape = (32,32,3)) )\n",
        "\n",
        "#Add a pooling layer\n",
        "model.add(MaxPooling2D(pool_size = (2,2)))\n",
        "\n",
        "#Add another connvolution layer\n",
        "model.add( Conv2D(32,(5,5),activation = 'relu' ))\n",
        "\n",
        "#Add another pooling layer\n",
        "model.add(MaxPooling2D(pool_size = (2,2)))\n",
        "\n",
        "#Add a flattening layer\n",
        "model.add(Flatten())\n",
        "\n",
        "#Add a layer with 1000 neurons\n",
        "model.add(Dense(1000,activation = 'relu'))\n",
        "\n",
        "#add a drop out layer\n",
        "model.add(Dropout(0.5))\n",
        "\n",
        "#add a layer with 500 neurons\n",
        "model.add(Dense(500,activation = 'relu'))\n",
        "\n",
        "#add a drop out layer\n",
        "model.add(Dropout(0.4))\n",
        "\n",
        "#add a layer with 250 neurons\n",
        "model.add(Dense(250,activation = 'relu'))\n",
        "\n",
        "#add a layer with 10 neurons\n",
        "model.add(Dense(10,activation = 'softmax'))"
      ],
      "metadata": {
        "id": "L2gAVgrohXWB"
      },
      "execution_count": 67,
      "outputs": []
    },
    {
      "cell_type": "code",
      "source": [
        "#compile the model\n",
        "model.compile(loss = 'categorical_crossentropy',\n",
        "              optimizer = 'adam',\n",
        "              metrics = ['accuracy'])"
      ],
      "metadata": {
        "id": "n_L8QttgvalR"
      },
      "execution_count": 68,
      "outputs": []
    },
    {
      "cell_type": "code",
      "source": [
        "#train the model\n",
        "hist = model.fit(x_train,y_train_one_hot,\n",
        "                 batch_size = 256,#this is the bach size number\n",
        "                 epochs = 15,#this is epochs number, it could be edit here, 50 is too much for this model so I use 15 instead \n",
        "                 validation_split = 0.2)"
      ],
      "metadata": {
        "colab": {
          "base_uri": "https://localhost:8080/"
        },
        "id": "zo0sGGQ0vzYh",
        "outputId": "e06f673e-048b-4771-9cb1-30a20e152f67"
      },
      "execution_count": 73,
      "outputs": [
        {
          "output_type": "stream",
          "name": "stdout",
          "text": [
            "Epoch 1/15\n",
            "157/157 [==============================] - 62s 391ms/step - loss: 0.9337 - accuracy: 0.6674 - val_loss: 1.0076 - val_accuracy: 0.6451\n",
            "Epoch 2/15\n",
            "157/157 [==============================] - 60s 385ms/step - loss: 0.8677 - accuracy: 0.6937 - val_loss: 0.9612 - val_accuracy: 0.6634\n",
            "Epoch 3/15\n",
            "157/157 [==============================] - 59s 373ms/step - loss: 0.8150 - accuracy: 0.7133 - val_loss: 0.9827 - val_accuracy: 0.6571\n",
            "Epoch 4/15\n",
            "157/157 [==============================] - 58s 372ms/step - loss: 0.7605 - accuracy: 0.7322 - val_loss: 0.9191 - val_accuracy: 0.6820\n",
            "Epoch 5/15\n",
            "157/157 [==============================] - 59s 375ms/step - loss: 0.7102 - accuracy: 0.7498 - val_loss: 0.9203 - val_accuracy: 0.6907\n",
            "Epoch 6/15\n",
            "157/157 [==============================] - 59s 376ms/step - loss: 0.6527 - accuracy: 0.7704 - val_loss: 0.9517 - val_accuracy: 0.6774\n",
            "Epoch 7/15\n",
            "157/157 [==============================] - 59s 378ms/step - loss: 0.6273 - accuracy: 0.7767 - val_loss: 0.9077 - val_accuracy: 0.6895\n",
            "Epoch 8/15\n",
            "157/157 [==============================] - 59s 374ms/step - loss: 0.5757 - accuracy: 0.7970 - val_loss: 0.9093 - val_accuracy: 0.7019\n",
            "Epoch 9/15\n",
            "157/157 [==============================] - 59s 373ms/step - loss: 0.5241 - accuracy: 0.8154 - val_loss: 0.9843 - val_accuracy: 0.6884\n",
            "Epoch 10/15\n",
            "157/157 [==============================] - 58s 372ms/step - loss: 0.5114 - accuracy: 0.8199 - val_loss: 0.9529 - val_accuracy: 0.6969\n",
            "Epoch 11/15\n",
            "157/157 [==============================] - 59s 378ms/step - loss: 0.4645 - accuracy: 0.8348 - val_loss: 0.9369 - val_accuracy: 0.7106\n",
            "Epoch 12/15\n",
            "157/157 [==============================] - 65s 413ms/step - loss: 0.4277 - accuracy: 0.8472 - val_loss: 0.9906 - val_accuracy: 0.6959\n",
            "Epoch 13/15\n",
            "157/157 [==============================] - 77s 489ms/step - loss: 0.4074 - accuracy: 0.8545 - val_loss: 1.0039 - val_accuracy: 0.6930\n",
            "Epoch 14/15\n",
            "157/157 [==============================] - 63s 398ms/step - loss: 0.3807 - accuracy: 0.8656 - val_loss: 1.0096 - val_accuracy: 0.6976\n",
            "Epoch 15/15\n",
            "157/157 [==============================] - 59s 374ms/step - loss: 0.3706 - accuracy: 0.8699 - val_loss: 1.0153 - val_accuracy: 0.7018\n"
          ]
        }
      ]
    },
    {
      "cell_type": "code",
      "source": [
        "#visualize the models accuracy\n",
        "plt.plot(hist.history['accuracy'])\n",
        "plt.plot(hist.history['val_accuracy'])\n",
        "plt.title('Model Accuracy')\n",
        "plt.ylabel('Accuracy')\n",
        "plt.xlabel('Epoch')\n",
        "plt.legend(['Train','Value'],loc = 'upper right')\n",
        "plt.show()"
      ],
      "metadata": {
        "colab": {
          "base_uri": "https://localhost:8080/",
          "height": 325
        },
        "id": "smE6wi2XJKlo",
        "outputId": "5b0671b8-d620-4d69-f7c1-54d83e95dc01"
      },
      "execution_count": 74,
      "outputs": [
        {
          "output_type": "display_data",
          "data": {
            "text/plain": [
              "<Figure size 432x288 with 1 Axes>"
            ],
            "image/png": "[encoded data removed]"
          },
          "metadata": {}
        }
      ]
    },
    {
      "cell_type": "code",
      "source": [
        "#visualize the model loss function\n",
        "plt.plot(hist.history['loss'])\n",
        "plt.plot(hist.history['val_loss'])\n",
        "plt.title('Model loss')\n",
        "plt.ylabel('loss')\n",
        "plt.xlabel('epoch')\n",
        "plt.legend(['Train','Value'],loc = 'upper left')\n",
        "plt.show()"
      ],
      "metadata": {
        "colab": {
          "base_uri": "https://localhost:8080/",
          "height": 325
        },
        "id": "mwQYTt6Jeen1",
        "outputId": "f4e4951b-d3c8-4366-d518-d7ddd8abd9e7"
      },
      "execution_count": 75,
      "outputs": [
        {
          "output_type": "display_data",
          "data": {
            "text/plain": [
              "<Figure size 432x288 with 1 Axes>"
            ],
            "image/png": "[encoded data removed]"
          },
          "metadata": {}
        }
      ]
    }
  ]
}